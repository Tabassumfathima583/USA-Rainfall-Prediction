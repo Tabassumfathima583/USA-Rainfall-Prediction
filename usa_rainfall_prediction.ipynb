{
 "cells": [
  {
   "cell_type": "code",
   "execution_count": 4,
   "id": "e4a40d1d-2dfb-4aa4-8bfb-fd1f2d839513",
   "metadata": {},
   "outputs": [
    {
     "name": "stdout",
     "output_type": "stream",
     "text": [
      "Columns: ['date', 'location', 'temperature', 'humidity', 'wind_speed', 'precipitation', 'cloud_cover', 'pressure', 'rain_tomorrow']\n",
      "Shape: (73100, 9)\n",
      "Missing values:\n",
      " date             0\n",
      "location         0\n",
      "temperature      0\n",
      "humidity         0\n",
      "wind_speed       0\n",
      "precipitation    0\n",
      "cloud_cover      0\n",
      "pressure         0\n",
      "rain_tomorrow    0\n",
      "dtype: int64\n",
      "\n",
      "Basic stats:\n",
      "         temperature      humidity    wind_speed  precipitation   cloud_cover  \\\n",
      "count  73100.000000  73100.000000  73100.000000   73100.000000  73100.000000   \n",
      "mean      65.182270     59.875041     15.017946       0.390635     54.942807   \n",
      "std       20.205793     23.066115      8.668729       0.474833     25.982487   \n",
      "min       30.000766     20.000272      0.000712       0.000000     10.000856   \n",
      "25%       47.678968     39.800732      7.485182       0.000000     32.318668   \n",
      "50%       65.294949     59.887840     15.102495       0.196909     55.011121   \n",
      "75%       82.636570     79.835990     22.551794       0.673177     77.412469   \n",
      "max       99.997393     99.999025     29.999017       3.078090     99.998957   \n",
      "\n",
      "           pressure  rain_tomorrow  \n",
      "count  73100.000000   73100.000000  \n",
      "mean    1005.176013       0.220410  \n",
      "std       20.203889       0.414526  \n",
      "min      970.000919       0.000000  \n",
      "25%      987.697646       0.000000  \n",
      "50%     1005.284188       0.000000  \n",
      "75%     1022.727410       0.000000  \n",
      "max     1039.999765       1.000000  \n",
      "\n",
      "✅ Cleaned dataset saved as 'cleaned_usa_rainfall.csv'\n"
     ]
    }
   ],
   "source": [
    "import pandas as pd\n",
    "\n",
    "# 1. Load dataset\n",
    "df = pd.read_csv(\"usa_rain_prediction_dataset_2024_2025.csv\")\n",
    "\n",
    "# 2. Standardize column names\n",
    "df.columns = df.columns.str.strip().str.lower().str.replace(' ', '_')\n",
    "\n",
    "# 3. Basic overview\n",
    "print(\"Columns:\", df.columns.tolist())\n",
    "print(\"Shape:\", df.shape)\n",
    "print(\"Missing values:\\n\", df.isnull().sum())\n",
    "\n",
    "# 4. Data type conversion (if needed)\n",
    "df['date'] = pd.to_datetime(df['date'])\n",
    "\n",
    "# 5. Drop duplicates if any\n",
    "df.drop_duplicates(inplace=True)\n",
    "\n",
    "# 6. Check for outliers (optional: could add visual EDA)\n",
    "numerics = df.select_dtypes(include=['float64', 'int64']).columns\n",
    "print(\"\\nBasic stats:\\n\", df[numerics].describe())\n",
    "\n",
    "# 7. Save cleaned file\n",
    "df.to_csv(\"cleaned_usa_rainfall.csv\", index=False)\n",
    "print(\"\\n✅ Cleaned dataset saved as 'cleaned_usa_rainfall.csv'\")\n"
   ]
  },
  {
   "cell_type": "code",
   "execution_count": null,
   "id": "2d4915b8-2fd6-4b49-8b64-94ac5156c93f",
   "metadata": {},
   "outputs": [],
   "source": []
  }
 ],
 "metadata": {
  "kernelspec": {
   "display_name": "Python [conda env:base] *",
   "language": "python",
   "name": "conda-base-py"
  },
  "language_info": {
   "codemirror_mode": {
    "name": "ipython",
    "version": 3
   },
   "file_extension": ".py",
   "mimetype": "text/x-python",
   "name": "python",
   "nbconvert_exporter": "python",
   "pygments_lexer": "ipython3",
   "version": "3.12.7"
  }
 },
 "nbformat": 4,
 "nbformat_minor": 5
}
